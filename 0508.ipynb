{
  "nbformat": 4,
  "nbformat_minor": 0,
  "metadata": {
    "colab": {
      "provenance": [],
      "authorship_tag": "ABX9TyOrDkOc3X+pX3E90H1pJiQ5",
      "include_colab_link": true
    },
    "kernelspec": {
      "name": "python3",
      "display_name": "Python 3"
    },
    "language_info": {
      "name": "python"
    }
  },
  "cells": [
    {
      "cell_type": "markdown",
      "metadata": {
        "id": "view-in-github",
        "colab_type": "text"
      },
      "source": [
        "<a href=\"https://colab.research.google.com/github/clllcc/Introduction-to-Computers/blob/main/0508.ipynb\" target=\"_parent\"><img src=\"https://colab.research.google.com/assets/colab-badge.svg\" alt=\"Open In Colab\"/></a>"
      ]
    },
    {
      "cell_type": "code",
      "execution_count": 1,
      "metadata": {
        "colab": {
          "base_uri": "https://localhost:8080/"
        },
        "id": "9rKSAdJlJFjc",
        "outputId": "d61be068-7276-482d-9f0c-cb124dec8df9"
      },
      "outputs": [
        {
          "output_type": "stream",
          "name": "stdout",
          "text": [
            "37\n",
            "體溫略高！\n"
          ]
        }
      ],
      "source": [
        "t=float(input())\n",
        "if(t>=37.5):\n",
        "  print(\"體溫過高！\")\n",
        "elif(t>=37):\n",
        "  print(\"體溫略高！\")\n",
        "elif(t>=34):\n",
        "  print(\"體溫正常！\")\n",
        "else:\n",
        "  print(\"體溫異常，請重新測量！\")"
      ]
    },
    {
      "cell_type": "code",
      "source": [
        "sc=int(input())\n",
        "if(sc>=90):\n",
        "  print(\"A\")\n",
        "elif(sc>=80):\n",
        "  print(\"B\")\n",
        "elif(sc>=70):\n",
        "  print(\"C\")\n",
        "elif(sc>=60):\n",
        "  print(\"D\")\n",
        "else:\n",
        "  print(\"E\")"
      ],
      "metadata": {
        "colab": {
          "base_uri": "https://localhost:8080/"
        },
        "id": "vhLgPhe1frLa",
        "outputId": "f0d4850e-b43a-42e7-f464-f6a50afbcbaa"
      },
      "execution_count": 9,
      "outputs": [
        {
          "output_type": "stream",
          "name": "stdout",
          "text": [
            "7\n",
            "E\n"
          ]
        }
      ]
    },
    {
      "cell_type": "code",
      "source": [
        "x=int(input())\n",
        "if(x==3 or x==4 or x==5):\n",
        "  print(x,\"月是春天！\")\n",
        "elif(x==6 or x==7 or x==8):\n",
        "  print(x,'月是夏天！')\n",
        "elif(x==9 or x==10 or x==11):\n",
        "  print(x,\"月是秋天！\")\n",
        "elif(x==12 or x==1 or x==2):\n",
        "  print(x,\"月是冬天\")\n",
        "else:\n",
        "  print(\"月份不在範圍內！\")"
      ],
      "metadata": {
        "colab": {
          "base_uri": "https://localhost:8080/"
        },
        "id": "GDtrcP-6glHk",
        "outputId": "5c5167d8-3f84-4aeb-aaa7-d82c0361c702"
      },
      "execution_count": 11,
      "outputs": [
        {
          "output_type": "stream",
          "name": "stdout",
          "text": [
            "14\n",
            "月份不在範圍內！\n"
          ]
        }
      ]
    },
    {
      "cell_type": "code",
      "source": [],
      "metadata": {
        "id": "AaAemGXohZ76"
      },
      "execution_count": null,
      "outputs": []
    }
  ]
}